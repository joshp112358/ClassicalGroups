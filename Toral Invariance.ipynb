{
 "cells": [
  {
   "cell_type": "code",
   "execution_count": 661,
   "id": "d6a1607c",
   "metadata": {},
   "outputs": [],
   "source": [
    "import numpy as np\n",
    "from scipy.stats import unitary_group, special_ortho_group,ortho_group\n",
    "import matplotlib.pyplot as plt\n",
    "import scipy"
   ]
  },
  {
   "cell_type": "code",
   "execution_count": 662,
   "id": "4866c32e",
   "metadata": {},
   "outputs": [],
   "source": [
    "def complex_torus(n):\n",
    "    diagonal = [np.exp(np.random.uniform(0,2*np.pi)*1j) for i in range(n)]\n",
    "    torus = np.diag(diagonal)\n",
    "    return torus\n",
    "\n",
    "def phi_action(D, U, A):\n",
    "    U1 = scipy.linalg.schur(U@A, 'complex')[1] #SCHUR\n",
    "    S = scipy.linalg.schur(U@A, 'complex')[0]\n",
    "    return U1 @ D @ S @ np.linalg.inv(U1)\n",
    "\n",
    "def psi_action(D,V):\n",
    "    return V@D\n",
    "\n",
    "def det_of_k_dim_flag(A,V,k):\n",
    "    n = len(A)\n",
    "    M = A @ V\n",
    "    X = M[:,0:k]\n",
    "    return np.sqrt(np.abs(np.linalg.det(X.T @ X)))\n",
    "\n",
    "def sum_of_top_k_evals(M,k):\n",
    "    evals = np.abs(np.linalg.eig(M)[0])\n",
    "    return np.prod(np.sort(evals)[-k:])"
   ]
  },
  {
   "cell_type": "code",
   "execution_count": 663,
   "id": "47e0c94b",
   "metadata": {},
   "outputs": [
    {
     "data": {
      "text/plain": [
       "array([5.])"
      ]
     },
     "execution_count": 663,
     "metadata": {},
     "output_type": "execute_result"
    }
   ],
   "source": [
    "A = np.diag([5,3,1])\n",
    "evals = np.abs(np.linalg.eig(A)[0])\n",
    "np.sort(evals)[-1:]"
   ]
  },
  {
   "cell_type": "code",
   "execution_count": 664,
   "id": "e93fc5b4",
   "metadata": {},
   "outputs": [
    {
     "data": {
      "text/plain": [
       "array([1., 3., 5.])"
      ]
     },
     "execution_count": 664,
     "metadata": {},
     "output_type": "execute_result"
    }
   ],
   "source": [
    "np.sort(evals)"
   ]
  },
  {
   "cell_type": "markdown",
   "id": "41bf8a51",
   "metadata": {},
   "source": [
    "# Toral invariance of spectra\n",
    "\n",
    "(i.e. invariance of spectra under applications of phi)"
   ]
  },
  {
   "cell_type": "code",
   "execution_count": 665,
   "id": "b2c392b5",
   "metadata": {},
   "outputs": [
    {
     "name": "stdout",
     "output_type": "stream",
     "text": [
      "1.4478719883723543\n",
      "1.4478719883723499\n",
      "1.4478719883723545\n",
      "1.4478719883723519\n",
      "1.4478719883723519\n",
      "1.4478719883723545\n",
      "1.447871988372352\n",
      "1.4478719883723514\n",
      "1.4478719883723536\n",
      "1.447871988372353\n"
     ]
    }
   ],
   "source": [
    "# over unitary group\n",
    "U = unitary_group.rvs(3)\n",
    "A = np.diag([5,2,1/10])\n",
    "n = len(A)\n",
    "for i in range(10):\n",
    "    D = complex_torus(n)\n",
    "    l1 = np.max(np.abs(np.linalg.eig(phi_action(D, U,A))[0]))\n",
    "    print(l1)"
   ]
  },
  {
   "cell_type": "code",
   "execution_count": 666,
   "id": "7056068a",
   "metadata": {},
   "outputs": [
    {
     "name": "stdout",
     "output_type": "stream",
     "text": [
      "4.64533051485348\n",
      "4.645330514853484\n",
      "4.6453305148534865\n",
      "4.645330514853488\n",
      "4.645330514853483\n",
      "4.645330514853485\n",
      "4.645330514853484\n",
      "4.645330514853489\n",
      "4.64533051485349\n",
      "4.6453305148534865\n"
     ]
    }
   ],
   "source": [
    "# over orthogonal group\n",
    "U = ortho_group.rvs(3)\n",
    "A = np.diag([5,2,1/10])\n",
    "n = len(A)\n",
    "for i in range(10):\n",
    "    D = complex_torus(n)\n",
    "    l1 = np.max(np.abs(np.linalg.eig(phi_action(D, U,A))[0]))\n",
    "    print(l1)"
   ]
  },
  {
   "cell_type": "markdown",
   "id": "c4d0a9de",
   "metadata": {},
   "source": [
    "# Toral invariance of det"
   ]
  },
  {
   "cell_type": "code",
   "execution_count": 667,
   "id": "f2823ed8",
   "metadata": {},
   "outputs": [
    {
     "name": "stdout",
     "output_type": "stream",
     "text": [
      "0.16000220682471594\n",
      "0.16000220682471594\n",
      "0.16000220682471594\n",
      "0.16000220682471594\n",
      "0.16000220682471594\n",
      "0.16000220682471597\n",
      "0.16000220682471594\n",
      "0.16000220682471594\n",
      "0.16000220682471594\n",
      "0.16000220682471594\n"
     ]
    }
   ],
   "source": [
    "# over ortho_group k = 1\n",
    "U = ortho_group.rvs(3)\n",
    "A = np.diag([5,2,1/10])\n",
    "V = scipy.linalg.schur(U@A, 'complex')[1]\n",
    "S = scipy.linalg.schur(U@A, 'complex')[0]\n",
    "n = len(A)\n",
    "k = 1\n",
    "for i in range(10):\n",
    "    D = complex_torus(n)\n",
    "    l1 = np.linalg.norm(det_of_k_dim_flag(A,V@D,k))\n",
    "    print(l1)"
   ]
  },
  {
   "cell_type": "code",
   "execution_count": 668,
   "id": "dea1404d",
   "metadata": {},
   "outputs": [
    {
     "name": "stdout",
     "output_type": "stream",
     "text": [
      "6.110480753714159\n",
      "6.1104807537141586\n",
      "6.110480753714159\n",
      "6.110480753714159\n",
      "6.110480753714159\n",
      "6.1104807537141586\n",
      "6.1104807537141586\n",
      "6.11048075371416\n",
      "6.110480753714161\n",
      "6.110480753714159\n"
     ]
    }
   ],
   "source": [
    "# over ortho_group k = 2\n",
    "U = ortho_group.rvs(3)\n",
    "A = np.diag([5,2,1/10])\n",
    "V = scipy.linalg.schur(U@A)[1]\n",
    "S = scipy.linalg.schur(U@A)[0]\n",
    "n = len(A)\n",
    "k = 2\n",
    "for i in range(10):\n",
    "    D = complex_torus(n)\n",
    "    l1 = np.linalg.norm(det_of_k_dim_flag(A,V@D,k))\n",
    "    print(l1)"
   ]
  },
  {
   "cell_type": "code",
   "execution_count": 669,
   "id": "472f4ed3",
   "metadata": {},
   "outputs": [
    {
     "name": "stdout",
     "output_type": "stream",
     "text": [
      "2.7411321611376613\n",
      "2.7411321611376613\n",
      "2.741132161137662\n",
      "2.7411321611376613\n",
      "2.7411321611376613\n",
      "2.741132161137661\n",
      "2.741132161137662\n",
      "2.7411321611376622\n",
      "2.741132161137661\n",
      "2.7411321611376613\n"
     ]
    }
   ],
   "source": [
    "# over unitary_group k = 1\n",
    "U = unitary_group.rvs(3)\n",
    "A = np.diag([5,2,1/10])\n",
    "V = scipy.linalg.schur(U@A, 'complex')[1]\n",
    "S = scipy.linalg.schur(U@A, 'complex')[0]\n",
    "n = len(A)\n",
    "k = 1\n",
    "for i in range(10):\n",
    "    D = complex_torus(n)\n",
    "    l1 = np.linalg.norm(det_of_k_dim_flag(A,V@D,k))\n",
    "    print(l1)"
   ]
  },
  {
   "cell_type": "code",
   "execution_count": 670,
   "id": "ff235b7f",
   "metadata": {},
   "outputs": [
    {
     "name": "stdout",
     "output_type": "stream",
     "text": [
      "7.0724428654776235\n",
      "7.072442865477625\n",
      "7.07244286547762\n",
      "7.072442865477625\n",
      "7.072442865477623\n",
      "7.0724428654776235\n",
      "7.072442865477623\n",
      "7.072442865477621\n",
      "7.072442865477623\n",
      "7.072442865477623\n"
     ]
    }
   ],
   "source": [
    "# over unitary_group k = 2\n",
    "U = unitary_group.rvs(3)\n",
    "A = np.diag([5,2,1/10])\n",
    "V = scipy.linalg.schur(U@A, 'complex')[1]\n",
    "S = scipy.linalg.schur(U@A, 'complex')[0]\n",
    "n = len(A)\n",
    "k = 2\n",
    "for i in range(10):\n",
    "    D = complex_torus(n)\n",
    "    l1 = np.linalg.norm(det_of_k_dim_flag(A,V@D,k))\n",
    "    print(l1)"
   ]
  },
  {
   "cell_type": "markdown",
   "id": "25657852",
   "metadata": {},
   "source": [
    "# Inequality is true over toral fibers."
   ]
  },
  {
   "cell_type": "code",
   "execution_count": 671,
   "id": "e93ad114",
   "metadata": {},
   "outputs": [
    {
     "name": "stdout",
     "output_type": "stream",
     "text": [
      "True\n",
      "True\n",
      "True\n",
      "True\n",
      "True\n",
      "True\n",
      "True\n",
      "True\n",
      "True\n",
      "True\n"
     ]
    }
   ],
   "source": [
    "U = ortho_group.rvs(3)\n",
    "A = np.diag([5,2,1/10])\n",
    "V = scipy.linalg.schur(U@A, output = \"complex\")[1]\n",
    "S = scipy.linalg.schur(U@A, output = \"complex\")[0]\n",
    "n = len(A)\n",
    "k = 1\n",
    "for i in range(10):\n",
    "    D = complex_torus(n)\n",
    "    LHS = np.max(np.abs(np.linalg.eig(phi_action(D, U,A))[0]))\n",
    "    RHS = np.linalg.norm(det_of_k_dim_flag(A,V@D,k))\n",
    "    print(np.round(LHS,4) >= np.round(RHS,4))"
   ]
  },
  {
   "cell_type": "code",
   "execution_count": 757,
   "id": "dc9da6ef",
   "metadata": {},
   "outputs": [
    {
     "name": "stdout",
     "output_type": "stream",
     "text": [
      "True\n",
      "True\n",
      "True\n",
      "True\n",
      "True\n",
      "True\n",
      "True\n",
      "True\n",
      "True\n",
      "True\n"
     ]
    }
   ],
   "source": [
    "U = ortho_group.rvs(4)\n",
    "A = np.diag([5,2,1,1/10])\n",
    "V = scipy.linalg.schur(U@A, output = \"complex\")[1]\n",
    "S = scipy.linalg.schur(U@A, output = \"complex\")[0]\n",
    "n = len(A)\n",
    "k = 3\n",
    "for i in range(10):\n",
    "    D = complex_torus(n)\n",
    "    LHS = sum_of_top_k_evals(U@A,k)\n",
    "    RHS = np.linalg.norm(det_of_k_dim_flag(A,V@D,k))\n",
    "    print(np.round(LHS,4) >= np.round(RHS,4))"
   ]
  },
  {
   "cell_type": "code",
   "execution_count": 673,
   "id": "5862957c",
   "metadata": {},
   "outputs": [
    {
     "data": {
      "text/plain": [
       "1.5530710849786333"
      ]
     },
     "execution_count": 673,
     "metadata": {},
     "output_type": "execute_result"
    }
   ],
   "source": [
    "LHS"
   ]
  },
  {
   "cell_type": "code",
   "execution_count": 674,
   "id": "74fda53d",
   "metadata": {},
   "outputs": [
    {
     "data": {
      "text/plain": [
       "1.0971747839573256"
      ]
     },
     "execution_count": 674,
     "metadata": {},
     "output_type": "execute_result"
    }
   ],
   "source": [
    "RHS\n"
   ]
  },
  {
   "cell_type": "markdown",
   "id": "aee82a01",
   "metadata": {},
   "source": [
    "# Check if toral action of phi is uniform on UA"
   ]
  },
  {
   "cell_type": "code",
   "execution_count": 775,
   "id": "d9c171e2",
   "metadata": {},
   "outputs": [],
   "source": [
    "U = special_ortho_group.rvs(4)\n",
    "A = np.diag([14,3,2,1])\n",
    "V = scipy.linalg.schur(U@A, output = \"complex\")[1]\n",
    "S = scipy.linalg.schur(U@A, output = \"complex\")[0]\n",
    "\n",
    "for i in range(100000):\n",
    "    D = complex_torus(n)\n",
    "    LHS = sum_of_top_k_evals(U@A,k)\n",
    "    RHS = np.linalg.norm(det_of_k_dim_flag(A,V@D,k))\n",
    "    V = scipy.linalg.schur(U@A, 'complex')[1]\n",
    "    S = scipy.linalg.schur(U@A, 'complex')[0]\n",
    "    Z, Sigma, W = np.linalg.svd(U@A)\n",
    "    matrices.append(V@np.conj(W.T)@V@D@Z)"
   ]
  },
  {
   "cell_type": "code",
   "execution_count": 776,
   "id": "26acb075",
   "metadata": {},
   "outputs": [],
   "source": [
    "dist1 = [M[0,0] for M in matrices]\n",
    "dist2 = [unitary_group.rvs(4)[0,0] for d in dist1]"
   ]
  },
  {
   "cell_type": "code",
   "execution_count": 777,
   "id": "9f1c066d",
   "metadata": {},
   "outputs": [],
   "source": [
    "x1 = [d.real for d in dist1]\n",
    "y1 = [d.imag for d in dist1]\n",
    "x2 = [d.real for d in dist2]\n",
    "y2 = [d.imag for d in dist2]"
   ]
  },
  {
   "cell_type": "code",
   "execution_count": 778,
   "id": "93fa65d6",
   "metadata": {},
   "outputs": [
    {
     "data": {
      "text/plain": [
       "<matplotlib.legend.Legend at 0x7fbcf1e37700>"
      ]
     },
     "execution_count": 778,
     "metadata": {},
     "output_type": "execute_result"
    },
    {
     "data": {
      "image/png": "[encoded data removed]",
      "text/plain": [
       "<Figure size 432x288 with 1 Axes>"
      ]
     },
     "metadata": {
      "needs_background": "light"
     },
     "output_type": "display_data"
    }
   ],
   "source": [
    "plt.hist(x2,alpha = 0.6, label = \"sample Re(v_11) Unitary group\")\n",
    "plt.hist(x1,alpha = 0.6, label = \"Toral Action\")\n",
    "plt.legend()"
   ]
  },
  {
   "cell_type": "code",
   "execution_count": null,
   "id": "43e5e093",
   "metadata": {},
   "outputs": [],
   "source": []
  },
  {
   "cell_type": "code",
   "execution_count": null,
   "id": "412d9c51",
   "metadata": {},
   "outputs": [],
   "source": []
  }
 ],
 "metadata": {
  "kernelspec": {
   "display_name": "Python 3 (ipykernel)",
   "language": "python",
   "name": "python3"
  },
  "language_info": {
   "codemirror_mode": {
    "name": "ipython",
    "version": 3
   },
   "file_extension": ".py",
   "mimetype": "text/x-python",
   "name": "python",
   "nbconvert_exporter": "python",
   "pygments_lexer": "ipython3",
   "version": "3.9.7"
  }
 },
 "nbformat": 4,
 "nbformat_minor": 5
}
