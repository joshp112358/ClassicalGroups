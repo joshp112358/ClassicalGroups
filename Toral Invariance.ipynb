{
 "cells": [
  {
   "cell_type": "code",
   "execution_count": 1,
   "id": "d6a1607c",
   "metadata": {},
   "outputs": [],
   "source": [
    "import numpy as np\n",
    "from scipy.stats import unitary_group, special_ortho_group,ortho_group\n",
    "import matplotlib.pyplot as plt\n",
    "import scipy"
   ]
  },
  {
   "cell_type": "code",
   "execution_count": 47,
   "id": "4866c32e",
   "metadata": {},
   "outputs": [],
   "source": [
    "def complex_torus(n):\n",
    "    diagonal = [np.exp(np.random.uniform(0,2*np.pi)*1j) for i in range(n)]\n",
    "    torus = np.diag(diagonal)\n",
    "    return torus\n",
    "\n",
    "def phi_action(D, U, A):\n",
    "    U1 = scipy.linalg.schur(U@A, 'complex')[1] #SCHUR\n",
    "    S = scipy.linalg.schur(U@A, 'complex')[0]\n",
    "    return U1 @ D @ S @ np.linalg.inv(U1)\n",
    "\n",
    "def psi_action(D,V):\n",
    "    return V@D\n",
    "\n",
    "def det_of_k_dim_flag(A,V,k):\n",
    "    n = len(A)\n",
    "    M = A @ V\n",
    "    X = M[:,0:k]\n",
    "    return np.sqrt(np.linalg.det(X.T @ X))\n",
    "\n",
    "def sum_of_top_k_evals(M,k):\n",
    "    evals = np.abs(np.linalg.eig(M)[0])\n",
    "    return np.sum(np.sort(evals)[-k:])"
   ]
  },
  {
   "cell_type": "code",
   "execution_count": 40,
   "id": "47e0c94b",
   "metadata": {},
   "outputs": [
    {
     "data": {
      "text/plain": [
       "array([5.])"
      ]
     },
     "execution_count": 40,
     "metadata": {},
     "output_type": "execute_result"
    }
   ],
   "source": [
    "A = np.diag([5,3,1])\n",
    "evals = np.abs(np.linalg.eig(A)[0])\n",
    "np.sort(evals)[-1:]"
   ]
  },
  {
   "cell_type": "code",
   "execution_count": 34,
   "id": "e93fc5b4",
   "metadata": {},
   "outputs": [
    {
     "data": {
      "text/plain": [
       "array([1., 3., 5.])"
      ]
     },
     "execution_count": 34,
     "metadata": {},
     "output_type": "execute_result"
    }
   ],
   "source": [
    "np.sort(evals)"
   ]
  },
  {
   "cell_type": "markdown",
   "id": "41bf8a51",
   "metadata": {},
   "source": [
    "# Toral invariance of spectra\n",
    "\n",
    "(i.e. invariance of spectra under applications of phi)"
   ]
  },
  {
   "cell_type": "code",
   "execution_count": 18,
   "id": "b2c392b5",
   "metadata": {},
   "outputs": [
    {
     "name": "stdout",
     "output_type": "stream",
     "text": [
      "2.0799391427536325\n",
      "2.0799391427536307\n",
      "2.0799391427536316\n",
      "2.079939142753631\n",
      "2.07993914275363\n",
      "2.0799391427536302\n",
      "2.07993914275363\n",
      "2.079939142753631\n",
      "2.07993914275363\n",
      "2.0799391427536285\n"
     ]
    }
   ],
   "source": [
    "# over unitary group\n",
    "U = unitary_group.rvs(3)\n",
    "A = np.diag([5,2,1/10])\n",
    "n = len(A)\n",
    "for i in range(10):\n",
    "    D = complex_torus(n)\n",
    "    l1 = np.max(np.abs(np.linalg.eig(phi_action(D, U,A))[0]))\n",
    "    print(l1)"
   ]
  },
  {
   "cell_type": "code",
   "execution_count": 19,
   "id": "7056068a",
   "metadata": {},
   "outputs": [
    {
     "name": "stdout",
     "output_type": "stream",
     "text": [
      "3.4959656918730535\n",
      "3.4959656918730566\n",
      "3.4959656918730544\n",
      "3.495965691873054\n",
      "3.4959656918730526\n",
      "3.4959656918730526\n",
      "3.4959656918730526\n",
      "3.495965691873056\n",
      "3.4959656918730513\n",
      "3.4959656918730566\n"
     ]
    }
   ],
   "source": [
    "# over orthogonal group\n",
    "U = ortho_group.rvs(3)\n",
    "A = np.diag([5,2,1/10])\n",
    "n = len(A)\n",
    "for i in range(10):\n",
    "    D = complex_torus(n)\n",
    "    l1 = np.max(np.abs(np.linalg.eig(phi_action(D, U,A))[0]))\n",
    "    print(l1)"
   ]
  },
  {
   "cell_type": "markdown",
   "id": "c4d0a9de",
   "metadata": {},
   "source": [
    "# Toral invariance of log det"
   ]
  },
  {
   "cell_type": "code",
   "execution_count": 20,
   "id": "f2823ed8",
   "metadata": {},
   "outputs": [
    {
     "name": "stdout",
     "output_type": "stream",
     "text": [
      "2.0477242932083435\n",
      "2.0477242932083435\n",
      "2.0477242932083435\n",
      "2.0477242932083435\n",
      "2.0477242932083435\n",
      "2.047724293208344\n",
      "2.047724293208343\n",
      "2.0477242932083435\n",
      "2.0477242932083435\n",
      "2.0477242932083435\n"
     ]
    }
   ],
   "source": [
    "# over ortho_group k = 1\n",
    "U = ortho_group.rvs(3)\n",
    "A = np.diag([5,2,1/10])\n",
    "V = scipy.linalg.schur(U@A, 'complex')[1]\n",
    "S = scipy.linalg.schur(U@A, 'complex')[0]\n",
    "n = len(A)\n",
    "k = 1\n",
    "for i in range(10):\n",
    "    D = complex_torus(n)\n",
    "    l1 = np.linalg.norm(det_of_k_dim_flag(A,V@D,k))\n",
    "    print(l1)"
   ]
  },
  {
   "cell_type": "code",
   "execution_count": 21,
   "id": "dea1404d",
   "metadata": {},
   "outputs": [
    {
     "name": "stdout",
     "output_type": "stream",
     "text": [
      "4.3832758631958395\n",
      "4.3832758631958395\n",
      "4.38327586319584\n",
      "4.3832758631958395\n",
      "4.3832758631958395\n",
      "4.3832758631958395\n",
      "4.3832758631958395\n",
      "4.3832758631958395\n",
      "4.3832758631958395\n",
      "4.38327586319584\n"
     ]
    }
   ],
   "source": [
    "# over ortho_group k = 2\n",
    "U = ortho_group.rvs(3)\n",
    "A = np.diag([5,2,1/10])\n",
    "V = scipy.linalg.schur(U@A)[1]\n",
    "S = scipy.linalg.schur(U@A)[0]\n",
    "n = len(A)\n",
    "k = 2\n",
    "for i in range(10):\n",
    "    D = complex_torus(n)\n",
    "    l1 = np.linalg.norm(det_of_k_dim_flag(A,V@D,k))\n",
    "    print(l1)"
   ]
  },
  {
   "cell_type": "code",
   "execution_count": 22,
   "id": "472f4ed3",
   "metadata": {},
   "outputs": [
    {
     "name": "stdout",
     "output_type": "stream",
     "text": [
      "3.1471300534217206\n",
      "3.147130053421721\n",
      "3.14713005342172\n",
      "3.1471300534217197\n",
      "3.14713005342172\n",
      "3.1471300534217197\n",
      "3.147130053421721\n",
      "3.1471300534217206\n",
      "3.1471300534217193\n",
      "3.1471300534217206\n"
     ]
    }
   ],
   "source": [
    "# over unitary_group k = 1\n",
    "U = unitary_group.rvs(3)\n",
    "A = np.diag([5,2,1/10])\n",
    "V = scipy.linalg.schur(U@A, 'complex')[1]\n",
    "S = scipy.linalg.schur(U@A, 'complex')[0]\n",
    "n = len(A)\n",
    "k = 1\n",
    "for i in range(10):\n",
    "    D = complex_torus(n)\n",
    "    l1 = np.linalg.norm(det_of_k_dim_flag(A,V@D,k))\n",
    "    print(l1)"
   ]
  },
  {
   "cell_type": "code",
   "execution_count": 23,
   "id": "ff235b7f",
   "metadata": {},
   "outputs": [
    {
     "name": "stdout",
     "output_type": "stream",
     "text": [
      "0.4695641733821171\n",
      "0.46956417338211986\n",
      "0.46956417338211526\n",
      "0.46956417338210704\n",
      "0.46956417338212025\n",
      "0.4695641733821124\n",
      "0.4695641733821163\n",
      "0.4695641733820953\n",
      "0.4695641733821044\n",
      "0.46956417338211986\n"
     ]
    }
   ],
   "source": [
    "# over unitary_group k = 2\n",
    "U = unitary_group.rvs(3)\n",
    "A = np.diag([5,2,1/10])\n",
    "V = scipy.linalg.schur(U@A, 'complex')[1]\n",
    "S = scipy.linalg.schur(U@A, 'complex')[0]\n",
    "n = len(A)\n",
    "k = 2\n",
    "for i in range(10):\n",
    "    D = complex_torus(n)\n",
    "    l1 = np.linalg.norm(det_of_k_dim_flag(A,V@D,k))\n",
    "    print(l1)"
   ]
  },
  {
   "cell_type": "markdown",
   "id": "25657852",
   "metadata": {},
   "source": [
    "# Inequality is true over toral fibers."
   ]
  },
  {
   "cell_type": "code",
   "execution_count": 43,
   "id": "e93ad114",
   "metadata": {},
   "outputs": [
    {
     "name": "stdout",
     "output_type": "stream",
     "text": [
      "True\n",
      "True\n",
      "True\n",
      "True\n",
      "True\n",
      "True\n",
      "True\n",
      "True\n",
      "True\n",
      "True\n"
     ]
    }
   ],
   "source": [
    "U = ortho_group.rvs(3)\n",
    "A = np.diag([5,2,1/10])\n",
    "V = scipy.linalg.schur(U@A)[1]\n",
    "S = scipy.linalg.schur(U@A)[0]\n",
    "n = len(A)\n",
    "k = 2\n",
    "for i in range(10):\n",
    "    D = complex_torus(n)\n",
    "    LHS = sum_of_top_k_evals(U@A,k)\n",
    "    RHS = det_of_k_dim_flag(A,V@D,k)\n",
    "    print(LHS > RHS)"
   ]
  },
  {
   "cell_type": "code",
   "execution_count": 46,
   "id": "dc9da6ef",
   "metadata": {},
   "outputs": [
    {
     "name": "stdout",
     "output_type": "stream",
     "text": [
      "True\n",
      "True\n",
      "True\n",
      "True\n",
      "True\n",
      "True\n",
      "True\n",
      "True\n",
      "True\n",
      "True\n"
     ]
    }
   ],
   "source": [
    "U = ortho_group.rvs(4)\n",
    "A = np.diag([5,2,1,1/10])\n",
    "V = scipy.linalg.schur(U@A)[1]\n",
    "S = scipy.linalg.schur(U@A)[0]\n",
    "n = len(A)\n",
    "k = 3\n",
    "for i in range(10):\n",
    "    D = complex_torus(n)\n",
    "    LHS = sum_of_top_k_evals(U@A,k)\n",
    "    RHS = det_of_k_dim_flag(A,V@D,k)\n",
    "    print(LHS > RHS)"
   ]
  },
  {
   "cell_type": "code",
   "execution_count": null,
   "id": "d9c171e2",
   "metadata": {},
   "outputs": [],
   "source": []
  }
 ],
 "metadata": {
  "kernelspec": {
   "display_name": "Python 3 (ipykernel)",
   "language": "python",
   "name": "python3"
  },
  "language_info": {
   "codemirror_mode": {
    "name": "ipython",
    "version": 3
   },
   "file_extension": ".py",
   "mimetype": "text/x-python",
   "name": "python",
   "nbconvert_exporter": "python",
   "pygments_lexer": "ipython3",
   "version": "3.9.7"
  }
 },
 "nbformat": 4,
 "nbformat_minor": 5
}
